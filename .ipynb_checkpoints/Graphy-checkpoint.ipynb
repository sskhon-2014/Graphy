{
 "cells": [
  {
   "cell_type": "code",
   "execution_count": null,
   "metadata": {},
   "outputs": [],
   "source": [
    "##### Run this Cell\n",
    "from IPython.display import HTML\n",
    "%run graphy.py\n",
    "from IPython.display import display, HTML\n",
    "\n",
    "display(HTML(data=\"\"\"\n",
    "<style>\n",
    "    div#notebook-container    { width: 95%; }\n",
    "    div#menubar-container     { width: 65%; }\n",
    "    div#maintoolbar-container { width: 99%; }\n",
    "</style>\n",
    "\"\"\"))\n",
    "\n",
    "HTML('''<script>\n",
    "code_show=true; \n",
    "function code_toggle() {\n",
    " if (code_show){\n",
    " $('div.input').hide();\n",
    " } else {\n",
    " $('div.input').show();\n",
    " }\n",
    " code_show = !code_show\n",
    "} \n",
    "$( document ).ready(code_toggle);\n",
    "</script>\n",
    "<form action=\"javascript:code_toggle()\"><input type=\"submit\" value=\"Edit UI\"></form>''')"
   ]
  }
 ],
 "metadata": {
  "anaconda-cloud": {},
  "kernelspec": {
   "display_name": "Python 3",
   "language": "python",
   "name": "python3"
  },
  "language_info": {
   "codemirror_mode": {
    "name": "ipython",
    "version": 3
   },
   "file_extension": ".py",
   "mimetype": "text/x-python",
   "name": "python",
   "nbconvert_exporter": "python",
   "pygments_lexer": "ipython3",
   "version": "3.6.5"
  },
  "widgets": {
   "state": {
    "0cd31691757e4a8189462ae1ae0890be": {
     "views": [
      {
       "cell_index": 1
      }
     ]
    },
    "25dc9ea8041546dc8fe07b6789d18d36": {
     "views": [
      {
       "cell_index": 1
      }
     ]
    },
    "4565705712964ccc96bd37ed327e4f53": {
     "views": [
      {
       "cell_index": 1
      }
     ]
    },
    "4eec7e54ed5c47528d65d8e58b778372": {
     "views": [
      {
       "cell_index": 1
      }
     ]
    },
    "5e68ef1c77d541f796870eccbd3752c0": {
     "views": [
      {
       "cell_index": 1
      }
     ]
    },
    "6161a72cf5fc45cdab316bbb5d1f06c7": {
     "views": [
      {
       "cell_index": 1
      }
     ]
    },
    "6875321b916f4278b433301d799cb618": {
     "views": [
      {
       "cell_index": 1
      }
     ]
    },
    "7b8ec6fa2d814743b9342514b97525ee": {
     "views": [
      {
       "cell_index": 1
      }
     ]
    },
    "7ff33de8d53a452c94373a874c5d2d67": {
     "views": [
      {
       "cell_index": 1
      }
     ]
    },
    "824865f4bb8e40f2b8c175702af08024": {
     "views": [
      {
       "cell_index": 1
      }
     ]
    },
    "8bc7f351522f4d098391b52b264cc9da": {
     "views": [
      {
       "cell_index": 1
      }
     ]
    },
    "8d4fd59f5fd24c6a8bae84bd0526571a": {
     "views": [
      {
       "cell_index": 1
      }
     ]
    },
    "98d1b5d44718479885655a0f2f927bb2": {
     "views": [
      {
       "cell_index": 1
      }
     ]
    },
    "ac6ff2a7f41240c6a932caa21c1f9281": {
     "views": [
      {
       "cell_index": 1
      }
     ]
    },
    "cabedf5ff7c948008e165810e719199f": {
     "views": [
      {
       "cell_index": 1
      }
     ]
    },
    "d5f83c4420764a0287d24ed05c6737e1": {
     "views": [
      {
       "cell_index": 1
      }
     ]
    },
    "d75240249a3d42d4887e21cea0932d0b": {
     "views": [
      {
       "cell_index": 1
      }
     ]
    },
    "d9ac2d4646914aa6b6426df4aba6b961": {
     "views": [
      {
       "cell_index": 1
      }
     ]
    },
    "ec509d96b5b543869108a968fe9c14ba": {
     "views": [
      {
       "cell_index": 1
      }
     ]
    },
    "ef8d485f82864a2db68c4298cf8bede0": {
     "views": [
      {
       "cell_index": 1
      }
     ]
    }
   },
   "version": "1.2.0"
  }
 },
 "nbformat": 4,
 "nbformat_minor": 2
}
